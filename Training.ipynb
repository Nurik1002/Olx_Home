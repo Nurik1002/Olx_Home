{
 "cells": [
  {
   "cell_type": "code",
   "execution_count": 4,
   "id": "d20bd3a5-7b39-452b-aa64-43b2ba45f70d",
   "metadata": {
    "tags": []
   },
   "outputs": [],
   "source": [
    "from sklearn.model_selection import train_test_split, GridSearchCV\n",
    "from sklearn.preprocessing import LabelEncoder\n",
    "import matplotlib.pyplot as plt\n",
    "import pandas as pd\n",
    "import numpy as np"
   ]
  },
  {
   "cell_type": "code",
   "execution_count": 43,
   "id": "e208be5d-5517-47d5-a37f-2d8241400d15",
   "metadata": {},
   "outputs": [],
   "source": [
    "loc_encoding = {\n",
    "    \"Чиланзарский район\"      :0,\n",
    "    \"Мирзо-Улугбекский район\" :1, \n",
    "    \"Юнусабадский район\"      :1,\n",
    "    \"Яккасарайский район\"     :2, \n",
    "    \"Мирабадский район\"       :2,\n",
    "    \"Шайхантахурский район\"   :2,\n",
    "    \"Яшнабадский район\"       :1,          \n",
    "    \"Сергелийский район \"     :0,       \n",
    "    \"Алмазарский район\"       :1, \n",
    "    \"Учтепинский район\"       :0,           \n",
    "    \"Бектемирский район\"      :0           \n",
    "}"
   ]
  },
  {
   "cell_type": "code",
   "execution_count": 5,
   "id": "87c98ce3-36a9-4952-b015-4f3512ebb02a",
   "metadata": {
    "tags": []
   },
   "outputs": [
    {
     "data": {
      "text/html": [
       "<div>\n",
       "<style scoped>\n",
       "    .dataframe tbody tr th:only-of-type {\n",
       "        vertical-align: middle;\n",
       "    }\n",
       "\n",
       "    .dataframe tbody tr th {\n",
       "        vertical-align: top;\n",
       "    }\n",
       "\n",
       "    .dataframe thead th {\n",
       "        text-align: right;\n",
       "    }\n",
       "</style>\n",
       "<table border=\"1\" class=\"dataframe\">\n",
       "  <thead>\n",
       "    <tr style=\"text-align: right;\">\n",
       "      <th></th>\n",
       "      <th>Location</th>\n",
       "      <th>Prices</th>\n",
       "      <th>Xususiy biznes</th>\n",
       "      <th>Turar joyi</th>\n",
       "      <th>Xonalar</th>\n",
       "      <th>Umumiy maydoni</th>\n",
       "      <th>Etaj</th>\n",
       "      <th>Max etaj</th>\n",
       "      <th>Mebel</th>\n",
       "      <th>Televizor</th>\n",
       "      <th>Shifoxona</th>\n",
       "      <th>Bolalar bogchasi</th>\n",
       "      <th>Kongilochar joy</th>\n",
       "      <th>Yashil maydon</th>\n",
       "      <th>Avtoturargoh</th>\n",
       "      <th>Maktab</th>\n",
       "      <th>HovliDom</th>\n",
       "    </tr>\n",
       "  </thead>\n",
       "  <tbody>\n",
       "    <tr>\n",
       "      <th>0</th>\n",
       "      <td>2</td>\n",
       "      <td>142000.0</td>\n",
       "      <td>Бизнес</td>\n",
       "      <td>Новостройки</td>\n",
       "      <td>3</td>\n",
       "      <td>92.0</td>\n",
       "      <td>4</td>\n",
       "      <td>8</td>\n",
       "      <td>1</td>\n",
       "      <td>1</td>\n",
       "      <td>1</td>\n",
       "      <td>1</td>\n",
       "      <td>1</td>\n",
       "      <td>1</td>\n",
       "      <td>1</td>\n",
       "      <td>1</td>\n",
       "      <td>0</td>\n",
       "    </tr>\n",
       "    <tr>\n",
       "      <th>1</th>\n",
       "      <td>2</td>\n",
       "      <td>127000.0</td>\n",
       "      <td>Бизнес</td>\n",
       "      <td>Новостройки</td>\n",
       "      <td>3</td>\n",
       "      <td>110.0</td>\n",
       "      <td>3</td>\n",
       "      <td>8</td>\n",
       "      <td>0</td>\n",
       "      <td>0</td>\n",
       "      <td>1</td>\n",
       "      <td>1</td>\n",
       "      <td>1</td>\n",
       "      <td>1</td>\n",
       "      <td>1</td>\n",
       "      <td>1</td>\n",
       "      <td>0</td>\n",
       "    </tr>\n",
       "    <tr>\n",
       "      <th>2</th>\n",
       "      <td>0</td>\n",
       "      <td>46000.0</td>\n",
       "      <td>Бизнес</td>\n",
       "      <td>Вторичный рынок</td>\n",
       "      <td>2</td>\n",
       "      <td>45.0</td>\n",
       "      <td>1</td>\n",
       "      <td>4</td>\n",
       "      <td>1</td>\n",
       "      <td>1</td>\n",
       "      <td>1</td>\n",
       "      <td>1</td>\n",
       "      <td>1</td>\n",
       "      <td>1</td>\n",
       "      <td>1</td>\n",
       "      <td>1</td>\n",
       "      <td>0</td>\n",
       "    </tr>\n",
       "    <tr>\n",
       "      <th>3</th>\n",
       "      <td>2</td>\n",
       "      <td>240000.0</td>\n",
       "      <td>Бизнес</td>\n",
       "      <td>Новостройки</td>\n",
       "      <td>4</td>\n",
       "      <td>150.0</td>\n",
       "      <td>3</td>\n",
       "      <td>8</td>\n",
       "      <td>1</td>\n",
       "      <td>1</td>\n",
       "      <td>1</td>\n",
       "      <td>1</td>\n",
       "      <td>1</td>\n",
       "      <td>1</td>\n",
       "      <td>1</td>\n",
       "      <td>1</td>\n",
       "      <td>0</td>\n",
       "    </tr>\n",
       "    <tr>\n",
       "      <th>4</th>\n",
       "      <td>1</td>\n",
       "      <td>35001.0</td>\n",
       "      <td>Бизнес</td>\n",
       "      <td>Вторичный рынок</td>\n",
       "      <td>1</td>\n",
       "      <td>39.0</td>\n",
       "      <td>4</td>\n",
       "      <td>5</td>\n",
       "      <td>0</td>\n",
       "      <td>0</td>\n",
       "      <td>1</td>\n",
       "      <td>1</td>\n",
       "      <td>1</td>\n",
       "      <td>1</td>\n",
       "      <td>1</td>\n",
       "      <td>1</td>\n",
       "      <td>0</td>\n",
       "    </tr>\n",
       "    <tr>\n",
       "      <th>...</th>\n",
       "      <td>...</td>\n",
       "      <td>...</td>\n",
       "      <td>...</td>\n",
       "      <td>...</td>\n",
       "      <td>...</td>\n",
       "      <td>...</td>\n",
       "      <td>...</td>\n",
       "      <td>...</td>\n",
       "      <td>...</td>\n",
       "      <td>...</td>\n",
       "      <td>...</td>\n",
       "      <td>...</td>\n",
       "      <td>...</td>\n",
       "      <td>...</td>\n",
       "      <td>...</td>\n",
       "      <td>...</td>\n",
       "      <td>...</td>\n",
       "    </tr>\n",
       "    <tr>\n",
       "      <th>5092</th>\n",
       "      <td>0</td>\n",
       "      <td>65000.0</td>\n",
       "      <td>Бизнес</td>\n",
       "      <td>Вторичный рынок</td>\n",
       "      <td>3</td>\n",
       "      <td>64.0</td>\n",
       "      <td>1</td>\n",
       "      <td>4</td>\n",
       "      <td>1</td>\n",
       "      <td>1</td>\n",
       "      <td>0</td>\n",
       "      <td>0</td>\n",
       "      <td>0</td>\n",
       "      <td>0</td>\n",
       "      <td>0</td>\n",
       "      <td>0</td>\n",
       "      <td>0</td>\n",
       "    </tr>\n",
       "    <tr>\n",
       "      <th>5093</th>\n",
       "      <td>0</td>\n",
       "      <td>56000.0</td>\n",
       "      <td>Бизнес</td>\n",
       "      <td>Новостройки</td>\n",
       "      <td>2</td>\n",
       "      <td>48.0</td>\n",
       "      <td>1</td>\n",
       "      <td>6</td>\n",
       "      <td>0</td>\n",
       "      <td>0</td>\n",
       "      <td>0</td>\n",
       "      <td>0</td>\n",
       "      <td>0</td>\n",
       "      <td>0</td>\n",
       "      <td>0</td>\n",
       "      <td>0</td>\n",
       "      <td>0</td>\n",
       "    </tr>\n",
       "    <tr>\n",
       "      <th>5094</th>\n",
       "      <td>0</td>\n",
       "      <td>46997.0</td>\n",
       "      <td>Бизнес</td>\n",
       "      <td>Вторичный рынок</td>\n",
       "      <td>2</td>\n",
       "      <td>52.0</td>\n",
       "      <td>2</td>\n",
       "      <td>4</td>\n",
       "      <td>1</td>\n",
       "      <td>0</td>\n",
       "      <td>0</td>\n",
       "      <td>0</td>\n",
       "      <td>0</td>\n",
       "      <td>0</td>\n",
       "      <td>0</td>\n",
       "      <td>0</td>\n",
       "      <td>0</td>\n",
       "    </tr>\n",
       "    <tr>\n",
       "      <th>5095</th>\n",
       "      <td>0</td>\n",
       "      <td>34455.0</td>\n",
       "      <td>Бизнес</td>\n",
       "      <td>Вторичный рынок</td>\n",
       "      <td>1</td>\n",
       "      <td>30.0</td>\n",
       "      <td>2</td>\n",
       "      <td>4</td>\n",
       "      <td>0</td>\n",
       "      <td>0</td>\n",
       "      <td>0</td>\n",
       "      <td>0</td>\n",
       "      <td>0</td>\n",
       "      <td>0</td>\n",
       "      <td>0</td>\n",
       "      <td>0</td>\n",
       "      <td>0</td>\n",
       "    </tr>\n",
       "    <tr>\n",
       "      <th>5096</th>\n",
       "      <td>2</td>\n",
       "      <td>65000.0</td>\n",
       "      <td>Бизнес</td>\n",
       "      <td>Вторичный рынок</td>\n",
       "      <td>2</td>\n",
       "      <td>56.0</td>\n",
       "      <td>2</td>\n",
       "      <td>4</td>\n",
       "      <td>1</td>\n",
       "      <td>1</td>\n",
       "      <td>1</td>\n",
       "      <td>1</td>\n",
       "      <td>1</td>\n",
       "      <td>1</td>\n",
       "      <td>1</td>\n",
       "      <td>1</td>\n",
       "      <td>0</td>\n",
       "    </tr>\n",
       "  </tbody>\n",
       "</table>\n",
       "<p>5097 rows × 17 columns</p>\n",
       "</div>"
      ],
      "text/plain": [
       "      Location    Prices Xususiy biznes       Turar joyi  Xonalar   \n",
       "0            2  142000.0         Бизнес      Новостройки        3  \\\n",
       "1            2  127000.0         Бизнес      Новостройки        3   \n",
       "2            0   46000.0         Бизнес  Вторичный рынок        2   \n",
       "3            2  240000.0         Бизнес      Новостройки        4   \n",
       "4            1   35001.0         Бизнес  Вторичный рынок        1   \n",
       "...        ...       ...            ...              ...      ...   \n",
       "5092         0   65000.0         Бизнес  Вторичный рынок        3   \n",
       "5093         0   56000.0         Бизнес      Новостройки        2   \n",
       "5094         0   46997.0         Бизнес  Вторичный рынок        2   \n",
       "5095         0   34455.0         Бизнес  Вторичный рынок        1   \n",
       "5096         2   65000.0         Бизнес  Вторичный рынок        2   \n",
       "\n",
       "      Umumiy maydoni  Etaj  Max etaj  Mebel  Televizor  Shifoxona   \n",
       "0               92.0     4         8      1          1          1  \\\n",
       "1              110.0     3         8      0          0          1   \n",
       "2               45.0     1         4      1          1          1   \n",
       "3              150.0     3         8      1          1          1   \n",
       "4               39.0     4         5      0          0          1   \n",
       "...              ...   ...       ...    ...        ...        ...   \n",
       "5092            64.0     1         4      1          1          0   \n",
       "5093            48.0     1         6      0          0          0   \n",
       "5094            52.0     2         4      1          0          0   \n",
       "5095            30.0     2         4      0          0          0   \n",
       "5096            56.0     2         4      1          1          1   \n",
       "\n",
       "      Bolalar bogchasi  Kongilochar joy  Yashil maydon  Avtoturargoh  Maktab   \n",
       "0                    1                1              1             1       1  \\\n",
       "1                    1                1              1             1       1   \n",
       "2                    1                1              1             1       1   \n",
       "3                    1                1              1             1       1   \n",
       "4                    1                1              1             1       1   \n",
       "...                ...              ...            ...           ...     ...   \n",
       "5092                 0                0              0             0       0   \n",
       "5093                 0                0              0             0       0   \n",
       "5094                 0                0              0             0       0   \n",
       "5095                 0                0              0             0       0   \n",
       "5096                 1                1              1             1       1   \n",
       "\n",
       "      HovliDom  \n",
       "0            0  \n",
       "1            0  \n",
       "2            0  \n",
       "3            0  \n",
       "4            0  \n",
       "...        ...  \n",
       "5092         0  \n",
       "5093         0  \n",
       "5094         0  \n",
       "5095         0  \n",
       "5096         0  \n",
       "\n",
       "[5097 rows x 17 columns]"
      ]
     },
     "execution_count": 5,
     "metadata": {},
     "output_type": "execute_result"
    }
   ],
   "source": [
    "data = pd.read_csv(\"Data/new_olx_home.csv\")\n",
    "data"
   ]
  },
  {
   "cell_type": "code",
   "execution_count": 7,
   "id": "de5f69b7-1b4b-4f5b-9df8-cc7f59ff024c",
   "metadata": {
    "tags": []
   },
   "outputs": [
    {
     "data": {
      "text/plain": [
       "array([142000., 127000.,  46000., ...,  46997.,  34455.,  65000.])"
      ]
     },
     "execution_count": 7,
     "metadata": {},
     "output_type": "execute_result"
    }
   ],
   "source": [
    "Y = data['Prices'].to_numpy()\n",
    "Y"
   ]
  },
  {
   "cell_type": "code",
   "execution_count": 24,
   "id": "f33c6105-fefe-4338-8e15-a83afda00081",
   "metadata": {},
   "outputs": [
    {
     "data": {
      "image/png": "[encoded data removed]",
      "text/plain": [
       "<Figure size 640x480 with 1 Axes>"
      ]
     },
     "metadata": {},
     "output_type": "display_data"
    }
   ],
   "source": [
    "plt.plot(Y, '.')\n",
    "plt.show()"
   ]
  },
  {
   "cell_type": "code",
   "execution_count": 48,
   "id": "6e756eb6-d7da-4d71-afce-bb511d79e1c3",
   "metadata": {},
   "outputs": [
    {
     "data": {
      "text/plain": [
       "array([[2, 2, 0, ..., 0, 0, 2],\n",
       "       ['Бизнес', 'Бизнес', 'Бизнес', ..., 'Бизнес', 'Бизнес', 'Бизнес'],\n",
       "       ['Новостройки', 'Новостройки', 'Вторичный рынок', ...,\n",
       "        'Вторичный рынок', 'Вторичный рынок', 'Вторичный рынок'],\n",
       "       ...,\n",
       "       [1, 1, 1, ..., 0, 0, 1],\n",
       "       [1, 1, 1, ..., 0, 0, 1],\n",
       "       [0, 0, 0, ..., 0, 0, 0]], dtype=object)"
      ]
     },
     "execution_count": 48,
     "metadata": {},
     "output_type": "execute_result"
    }
   ],
   "source": [
    "X = data.drop('Prices', axis=1).to_numpy().T\n",
    "X"
   ]
  },
  {
   "cell_type": "code",
   "execution_count": 49,
   "id": "70ffd36e-c733-4bdc-a668-b7f031ee7a34",
   "metadata": {},
   "outputs": [],
   "source": [
    "label_xususiy_biznes = LabelEncoder()"
   ]
  },
  {
   "cell_type": "code",
   "execution_count": 51,
   "id": "f0707233-826c-4df1-9c5e-25c8bda96229",
   "metadata": {},
   "outputs": [
    {
     "data": {
      "text/html": [
       "<style>#sk-container-id-1 {color: black;background-color: white;}#sk-container-id-1 pre{padding: 0;}#sk-container-id-1 div.sk-toggleable {background-color: white;}#sk-container-id-1 label.sk-toggleable__label {cursor: pointer;display: block;width: 100%;margin-bottom: 0;padding: 0.3em;box-sizing: border-box;text-align: center;}#sk-container-id-1 label.sk-toggleable__label-arrow:before {content: \"▸\";float: left;margin-right: 0.25em;color: #696969;}#sk-container-id-1 label.sk-toggleable__label-arrow:hover:before {color: black;}#sk-container-id-1 div.sk-estimator:hover label.sk-toggleable__label-arrow:before {color: black;}#sk-container-id-1 div.sk-toggleable__content {max-height: 0;max-width: 0;overflow: hidden;text-align: left;background-color: #f0f8ff;}#sk-container-id-1 div.sk-toggleable__content pre {margin: 0.2em;color: black;border-radius: 0.25em;background-color: #f0f8ff;}#sk-container-id-1 input.sk-toggleable__control:checked~div.sk-toggleable__content {max-height: 200px;max-width: 100%;overflow: auto;}#sk-container-id-1 input.sk-toggleable__control:checked~label.sk-toggleable__label-arrow:before {content: \"▾\";}#sk-container-id-1 div.sk-estimator input.sk-toggleable__control:checked~label.sk-toggleable__label {background-color: #d4ebff;}#sk-container-id-1 div.sk-label input.sk-toggleable__control:checked~label.sk-toggleable__label {background-color: #d4ebff;}#sk-container-id-1 input.sk-hidden--visually {border: 0;clip: rect(1px 1px 1px 1px);clip: rect(1px, 1px, 1px, 1px);height: 1px;margin: -1px;overflow: hidden;padding: 0;position: absolute;width: 1px;}#sk-container-id-1 div.sk-estimator {font-family: monospace;background-color: #f0f8ff;border: 1px dotted black;border-radius: 0.25em;box-sizing: border-box;margin-bottom: 0.5em;}#sk-container-id-1 div.sk-estimator:hover {background-color: #d4ebff;}#sk-container-id-1 div.sk-parallel-item::after {content: \"\";width: 100%;border-bottom: 1px solid gray;flex-grow: 1;}#sk-container-id-1 div.sk-label:hover label.sk-toggleable__label {background-color: #d4ebff;}#sk-container-id-1 div.sk-serial::before {content: \"\";position: absolute;border-left: 1px solid gray;box-sizing: border-box;top: 0;bottom: 0;left: 50%;z-index: 0;}#sk-container-id-1 div.sk-serial {display: flex;flex-direction: column;align-items: center;background-color: white;padding-right: 0.2em;padding-left: 0.2em;position: relative;}#sk-container-id-1 div.sk-item {position: relative;z-index: 1;}#sk-container-id-1 div.sk-parallel {display: flex;align-items: stretch;justify-content: center;background-color: white;position: relative;}#sk-container-id-1 div.sk-item::before, #sk-container-id-1 div.sk-parallel-item::before {content: \"\";position: absolute;border-left: 1px solid gray;box-sizing: border-box;top: 0;bottom: 0;left: 50%;z-index: -1;}#sk-container-id-1 div.sk-parallel-item {display: flex;flex-direction: column;z-index: 1;position: relative;background-color: white;}#sk-container-id-1 div.sk-parallel-item:first-child::after {align-self: flex-end;width: 50%;}#sk-container-id-1 div.sk-parallel-item:last-child::after {align-self: flex-start;width: 50%;}#sk-container-id-1 div.sk-parallel-item:only-child::after {width: 0;}#sk-container-id-1 div.sk-dashed-wrapped {border: 1px dashed gray;margin: 0 0.4em 0.5em 0.4em;box-sizing: border-box;padding-bottom: 0.4em;background-color: white;}#sk-container-id-1 div.sk-label label {font-family: monospace;font-weight: bold;display: inline-block;line-height: 1.2em;}#sk-container-id-1 div.sk-label-container {text-align: center;}#sk-container-id-1 div.sk-container {/* jupyter's `normalize.less` sets `[hidden] { display: none; }` but bootstrap.min.css set `[hidden] { display: none !important; }` so we also need the `!important` here to be able to override the default hidden behavior on the sphinx rendered scikit-learn.org. See: https://github.com/scikit-learn/scikit-learn/issues/21755 */display: inline-block !important;position: relative;}#sk-container-id-1 div.sk-text-repr-fallback {display: none;}</style><div id=\"sk-container-id-1\" class=\"sk-top-container\"><div class=\"sk-text-repr-fallback\"><pre>LabelEncoder()</pre><b>In a Jupyter environment, please rerun this cell to show the HTML representation or trust the notebook. <br />On GitHub, the HTML representation is unable to render, please try loading this page with nbviewer.org.</b></div><div class=\"sk-container\" hidden><div class=\"sk-item\"><div class=\"sk-estimator sk-toggleable\"><input class=\"sk-toggleable__control sk-hidden--visually\" id=\"sk-estimator-id-1\" type=\"checkbox\" checked><label for=\"sk-estimator-id-1\" class=\"sk-toggleable__label sk-toggleable__label-arrow\">LabelEncoder</label><div class=\"sk-toggleable__content\"><pre>LabelEncoder()</pre></div></div></div></div></div>"
      ],
      "text/plain": [
       "LabelEncoder()"
      ]
     },
     "execution_count": 51,
     "metadata": {},
     "output_type": "execute_result"
    }
   ],
   "source": [
    "label_xususiy_biznes.fit(X[1])"
   ]
  },
  {
   "cell_type": "code",
   "execution_count": 52,
   "id": "9e3a0f34-5d15-4aba-9874-a92ee805079e",
   "metadata": {},
   "outputs": [
    {
     "data": {
      "text/plain": [
       "array(['Бизнес', 'Частное лицо'], dtype=object)"
      ]
     },
     "execution_count": 52,
     "metadata": {},
     "output_type": "execute_result"
    }
   ],
   "source": [
    "label_xususiy_biznes.classes_"
   ]
  },
  {
   "cell_type": "code",
   "execution_count": null,
   "id": "86215e53-244c-4476-a8fe-01d955cc2488",
   "metadata": {},
   "outputs": [],
   "source": [
    "label_xususiy_biznes.transform"
   ]
  }
 ],
 "metadata": {
  "kernelspec": {
   "display_name": "ai_full",
   "language": "python",
   "name": "ai_full"
  },
  "language_info": {
   "codemirror_mode": {
    "name": "ipython",
    "version": 3
   },
   "file_extension": ".py",
   "mimetype": "text/x-python",
   "name": "python",
   "nbconvert_exporter": "python",
   "pygments_lexer": "ipython3",
   "version": "3.11.2"
  }
 },
 "nbformat": 4,
 "nbformat_minor": 5
}
